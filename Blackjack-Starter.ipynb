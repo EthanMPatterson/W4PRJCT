{
 "cells": [
  {
   "cell_type": "markdown",
   "metadata": {},
   "source": [
    "## Python Blackjack\n",
    "For this project you will make a Blackjack game using Python. Click <a href=\"http://www.hitorstand.net/strategy.php\">here</a> to familiarize yourself with the the rules of the game. You won't be implementing every rule \"down to the letter\" with the game, but we will doing a simpler version of the game. This assignment will be given to further test your knowledge on object-oriented programming concepts.\n",
    "\n",
    "### Rules:\n",
    "\n",
    "`1. ` The game will have two players: the Dealer and the Player. The game will start off with a deck of 52 cards. The 52 cards will consist of 4 different suits: Clubs, Diamonds, Hearts and Spades. For each suit, there will be cards numbered 1 through 13. <br>\n",
    "**Note: No wildcards will be used in the program**\n",
    "\n",
    "`2. ` When the game begins, the dealer will shuffle the deck of cards, making them randomized. After the dealer shuffles, it will deal the player 2 cards and will deal itself 2 cards from. The Player should be able to see both of their own cards, but should only be able to see one of the Dealer's cards.\n",
    " \n",
    "`3. ` The objective of the game is for the Player to count their cards after they're dealt. If they're not satisfied with the number, they have the ability to 'Hit'. A hit allows the dealer to deal the Player one additional card. The Player can hit as many times as they'd like as long as they don't 'Bust'. A bust is when the Player is dealt cards that total more than 21.\n",
    "\n",
    "`4. ` If the dealer deals the Player cards equal to 21 on the **first** deal, the Player wins. This is referred to as Blackjack. Blackjack is **NOT** the same as getting cards that equal up to 21 after the first deal. Blackjack can only be attained on the first deal.\n",
    "\n",
    "`5. ` The Player will never see the Dealer's hand until the Player chooses to 'stand'. A Stand is when the player tells the dealer to not deal it anymore cards. Once the player chooses to Stand, the Player and the Dealer will compare their hands. Whoever has the higher number wins. Keep in mind that the Dealer can also bust. "
   ]
  },
  {
   "cell_type": "code",
   "execution_count": 685,
   "metadata": {
    "scrolled": true
   },
   "outputs": [],
   "source": [
    "import random\n",
    "cards = []\n",
    "suits = ['Spades', 'Clubs', 'Hearts', 'Diamonds']\n",
    "card_types = [\n",
    "{'type': 'Ace', 'value': 11},\n",
    "{'type': '2', 'value': 2},\n",
    "{'type': '3', 'value': 3},\n",
    "{'type': '4', 'value': 4},\n",
    "{'type': '5', 'value': 5},\n",
    "{'type': '6', 'value': 6},\n",
    "{'type': '7', 'value': 7},\n",
    "{'type': '8', 'value': 8},\n",
    "{'type': '9', 'value': 9},\n",
    "{'type': '10', 'value': 10},\n",
    "{'type': 'Jack', 'value': 10},\n",
    "{'type': 'Queeen', 'value': 10},\n",
    "{'type': 'King', 'value': 10},\n",
    "]\n",
    "\n",
    "\n",
    "\n",
    "['Ace', '2', '3', '4', '5', '6', '7', '8', '9', '10', 'Jack', 'Queen', 'King']\n",
    "for suit in suits:\n",
    "    for type in card_types:\n",
    "        cards.append([suit, type])\n",
    "\n",
    "def shuffle():\n",
    "    random.shuffle(cards) \n",
    "\n",
    "\n",
    "def deal_card(number_of_cards):\n",
    "    cards_dealt = []\n",
    "    dealcounter = 0\n",
    "    while number_of_cards != dealcounter:\n",
    "        cards_dealt.append(cards.pop())\n",
    "        dealcounter +=1\n",
    "    return cards_dealt  \n",
    "\n",
    "    #While researching online I found what may be a better way to deal and just wanted to practice coding it. Main thing I noticed is it reduces risk of infinite while loop by simply looping over the range of the input. \n",
    "def alternet_deal(number_of_cards):\n",
    "    cards_dealt = []\n",
    "    for i in range(number_of_cards):\n",
    "        card = cards.pop()\n",
    "        cards_dealt.append(card)\n",
    "    return cards_dealt\n",
    "\n",
    "\n",
    "\n",
    "shuffle()\n",
    "\n"
   ]
  },
  {
   "cell_type": "code",
   "execution_count": 686,
   "metadata": {},
   "outputs": [
    {
     "name": "stdout",
     "output_type": "stream",
     "text": [
      "['Clubs', {'type': 'Ace', 'value': 11}]\n"
     ]
    }
   ],
   "source": [
    "card = deal_card(1)[0]\n",
    "print(card)\n",
    "\n"
   ]
  },
  {
   "cell_type": "code",
   "execution_count": null,
   "metadata": {},
   "outputs": [],
   "source": [
    "cards_dealt = deal_card(2)\n",
    "card = cards_dealt[0]\n",
    "card_type = card[1] #rank\n",
    "\n",
    "if card_type == 'Ace':\n",
    "    value = 11\n",
    "elif card_type == 'King' or card_type == 'Queen' or card_type == 'Jack':\n",
    "    value = 10\n",
    "else:\n",
    "    value = card_type\n",
    "\n",
    "card_type_dict = {'card_type': card_type, 'value': value}\n",
    "print(f\"{card_type_dict['card_type']} {card_type_dict['value']} \")\n"
   ]
  }
 ],
 "metadata": {
  "kernelspec": {
   "display_name": "Python 3",
   "language": "python",
   "name": "python3"
  },
  "language_info": {
   "codemirror_mode": {
    "name": "ipython",
    "version": 3
   },
   "file_extension": ".py",
   "mimetype": "text/x-python",
   "name": "python",
   "nbconvert_exporter": "python",
   "pygments_lexer": "ipython3",
   "version": "3.12.2"
  }
 },
 "nbformat": 4,
 "nbformat_minor": 2
}
