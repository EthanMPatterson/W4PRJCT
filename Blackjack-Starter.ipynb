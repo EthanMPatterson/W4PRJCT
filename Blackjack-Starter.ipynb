{
 "cells": [
  {
   "cell_type": "markdown",
   "metadata": {},
   "source": [
    "## Python Blackjack\n",
    "For this project you will make a Blackjack game using Python. Click <a href=\"http://www.hitorstand.net/strategy.php\">here</a> to familiarize yourself with the the rules of the game. You won't be implementing every rule \"down to the letter\" with the game, but we will doing a simpler version of the game. This assignment will be given to further test your knowledge on object-oriented programming concepts.\n",
    "\n",
    "### Rules:\n",
    "\n",
    "`1. ` The game will have two players: the Dealer and the Player. The game will start off with a deck of 52 cards. The 52 cards will consist of 4 different suits: Clubs, Diamonds, Hearts and Spades. For each suit, there will be cards numbered 1 through 13. <br>\n",
    "**Note: No wildcards will be used in the program**\n",
    "\n",
    "`2. ` When the game begins, the dealer will shuffle the deck of cards, making them randomized. After the dealer shuffles, it will deal the player 2 cards and will deal itself 2 cards from. The Player should be able to see both of their own cards, but should only be able to see one of the Dealer's cards.\n",
    " \n",
    "`3. ` The objective of the game is for the Player to count their cards after they're dealt. If they're not satisfied with the number, they have the ability to 'Hit'. A hit allows the dealer to deal the Player one additional card. The Player can hit as many times as they'd like as long as they don't 'Bust'. A bust is when the Player is dealt cards that total more than 21.\n",
    "\n",
    "`4. ` If the dealer deals the Player cards equal to 21 on the **first** deal, the Player wins. This is referred to as Blackjack. Blackjack is **NOT** the same as getting cards that equal up to 21 after the first deal. Blackjack can only be attained on the first deal.\n",
    "\n",
    "`5. ` The Player will never see the Dealer's hand until the Player chooses to 'stand'. A Stand is when the player tells the dealer to not deal it anymore cards. Once the player chooses to Stand, the Player and the Dealer will compare their hands. Whoever has the higher number wins. Keep in mind that the Dealer can also bust. "
   ]
  },
  {
   "cell_type": "code",
   "execution_count": 549,
   "metadata": {
    "scrolled": true
   },
   "outputs": [],
   "source": [
    "import random\n",
    "cards = []\n",
    "suits = ['Spades', 'Clubs', 'Hearts', 'Diamonds']\n",
    "card_values = ['A', '2', '3', '4', '5', '6', '7', '8', '9', '10', 'Jack', 'Queen', 'King']\n",
    "for suit in suits:\n",
    "    for value in card_values:\n",
    "        cards.append([suit, value])\n",
    "\n",
    "def shuffle():\n",
    "    random.shuffle(cards) \n",
    "\n",
    "\n",
    "def deal_card(number_of_cards):\n",
    "    cards_dealt = []\n",
    "    card = cards.pop()\n",
    "    dealcounter = 0\n",
    "    while number_of_cards != dealcounter:\n",
    "        cards_dealt.append(cards.pop())\n",
    "        dealcounter +=1\n",
    "    return cards_dealt  \n",
    "\n",
    "    \n",
    "\n",
    "\n",
    "\n",
    "shuffle()\n",
    "\n"
   ]
  },
  {
   "cell_type": "code",
   "execution_count": 552,
   "metadata": {},
   "outputs": [
    {
     "name": "stdout",
     "output_type": "stream",
     "text": [
      "[['Diamonds', '2'], ['Diamonds', '8'], ['Clubs', '6'], ['Diamonds', '5'], ['Hearts', 'Jack'], ['Hearts', '2']]\n",
      "[['Diamonds', '9'], ['Clubs', '10'], ['Spades', '4'], ['Spades', 'King'], ['Spades', '6'], ['Diamonds', '3'], ['Spades', 'Jack'], ['Hearts', '4'], ['Spades', '2'], ['Hearts', '8'], ['Clubs', '2'], ['Diamonds', 'Jack'], ['Clubs', '9'], ['Hearts', '7'], ['Diamonds', 'King'], ['Diamonds', 'Queen'], ['Spades', '3'], ['Diamonds', '6'], ['Diamonds', 'A'], ['Hearts', '5'], ['Clubs', '8'], ['Spades', '10'], ['Hearts', '9'], ['Clubs', '4'], ['Clubs', 'King'], ['Diamonds', '10'], ['Diamonds', '4'], ['Hearts', 'Queen'], ['Clubs', 'A'], ['Clubs', '7'], ['Clubs', 'Jack']]\n"
     ]
    }
   ],
   "source": [
    "\n",
    "cards_dealt = deal_card(6)\n",
    "\n",
    "print(cards_dealt)\n",
    "print(cards)\n"
   ]
  },
  {
   "cell_type": "code",
   "execution_count": 555,
   "metadata": {},
   "outputs": [
    {
     "ename": "SyntaxError",
     "evalue": "incomplete input (1395338228.py, line 1)",
     "output_type": "error",
     "traceback": [
      "\u001b[1;36m  Cell \u001b[1;32mIn[555], line 1\u001b[1;36m\u001b[0m\n\u001b[1;33m    def alternate_deal_card(): #While researching online if found what may be a better way to deal and just wanted to practice coding it out.\u001b[0m\n\u001b[1;37m                                                                                                                                             ^\u001b[0m\n\u001b[1;31mSyntaxError\u001b[0m\u001b[1;31m:\u001b[0m incomplete input\n"
     ]
    }
   ],
   "source": []
  },
  {
   "cell_type": "code",
   "execution_count": null,
   "metadata": {},
   "outputs": [],
   "source": []
  }
 ],
 "metadata": {
  "kernelspec": {
   "display_name": "Python 3",
   "language": "python",
   "name": "python3"
  },
  "language_info": {
   "codemirror_mode": {
    "name": "ipython",
    "version": 3
   },
   "file_extension": ".py",
   "mimetype": "text/x-python",
   "name": "python",
   "nbconvert_exporter": "python",
   "pygments_lexer": "ipython3",
   "version": "3.12.2"
  }
 },
 "nbformat": 4,
 "nbformat_minor": 2
}
