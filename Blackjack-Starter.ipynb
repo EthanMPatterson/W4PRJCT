{
 "cells": [
  {
   "cell_type": "markdown",
   "metadata": {},
   "source": [
    "## Python Blackjack\n",
    "For this project you will make a Blackjack game using Python. Click <a href=\"http://www.hitorstand.net/strategy.php\">here</a> to familiarize yourself with the the rules of the game. You won't be implementing every rule \"down to the letter\" with the game, but we will doing a simpler version of the game. This assignment will be given to further test your knowledge on object-oriented programming concepts.\n",
    "\n",
    "### Rules:\n",
    "\n",
    "`1. ` The game will have two players: the Dealer and the Player. The game will start off with a deck of 52 cards. The 52 cards will consist of 4 different suits: Clubs, Diamonds, Hearts and Spades. For each suit, there will be cards numbered 1 through 13. <br>\n",
    "**Note: No wildcards will be used in the program**\n",
    "\n",
    "`2. ` When the game begins, the dealer will shuffle the deck of cards, making them randomized. After the dealer shuffles, it will deal the player 2 cards and will deal itself 2 cards from. The Player should be able to see both of their own cards, but should only be able to see one of the Dealer's cards.\n",
    " \n",
    "`3. ` The objective of the game is for the Player to count their cards after they're dealt. If they're not satisfied with the number, they have the ability to 'Hit'. A hit allows the dealer to deal the Player one additional card. The Player can hit as many times as they'd like as long as they don't 'Bust'. A bust is when the Player is dealt cards that total more than 21.\n",
    "\n",
    "`4. ` If the dealer deals the Player cards equal to 21 on the **first** deal, the Player wins. This is referred to as Blackjack. Blackjack is **NOT** the same as getting cards that equal up to 21 after the first deal. Blackjack can only be attained on the first deal.\n",
    "\n",
    "`5. ` The Player will never see the Dealer's hand until the Player chooses to 'stand'. A Stand is when the player tells the dealer to not deal it anymore cards. Once the player chooses to Stand, the Player and the Dealer will compare their hands. Whoever has the higher number wins. Keep in mind that the Dealer can also bust. "
   ]
  },
  {
   "cell_type": "code",
   "execution_count": 853,
   "metadata": {
    "scrolled": true
   },
   "outputs": [
    {
     "name": "stdout",
     "output_type": "stream",
     "text": [
      "5 of Spades 7 of Clubs\n"
     ]
    }
   ],
   "source": [
    "import random\n",
    "\n",
    "class Card:\n",
    "    def __init__(self, suit, type): #Must be in order took me about an hour of troubleshooting to realize I had them backwards....\n",
    "        self.suit = suit\n",
    "        self.type = type\n",
    "\n",
    "\n",
    "    def __str__(self):\n",
    "        return f\"{self.type['type']} of {self.suit}\"\n",
    "\n",
    "class Deck:\n",
    "    def __init__(self):\n",
    "        self.cards = []\n",
    "        suits = ['Spades', 'Clubs', 'Hearts', 'Diamonds']\n",
    "        card_types = [\n",
    "        {'type': 'Ace', 'value': 11},\n",
    "        {'type': '2', 'value': 2},\n",
    "        {'type': '3', 'value': 3},\n",
    "        {'type': '4', 'value': 4},\n",
    "        {'type': '5', 'value': 5},\n",
    "        {'type': '6', 'value': 6},\n",
    "        {'type': '7', 'value': 7},\n",
    "        {'type': '8', 'value': 8},\n",
    "        {'type': '9', 'value': 9},\n",
    "        {'type': '10', 'value': 10},\n",
    "        {'type': 'Jack', 'value': 10},\n",
    "        {'type': 'Queen', 'value': 10},\n",
    "        {'type': 'King', 'value': 10},\n",
    "        ]\n",
    "        for suit in suits:\n",
    "            for type in card_types:\n",
    "                self.cards.append(Card(suit, type))\n",
    "\n",
    "    def shuffle(self):\n",
    "        if len(self.cards) > 1:\n",
    "            random.shuffle(self.cards) \n",
    "\n",
    "\n",
    "    def deal_card(self,number_of_cards):\n",
    "        cards_dealt = []\n",
    "        dealcounter = 0\n",
    "        cards_left =  len(self.cards)\n",
    "        if cards_left >= number_of_cards:\n",
    "            while number_of_cards != dealcounter:\n",
    "                cards_dealt.append(self.cards.pop())\n",
    "                dealcounter +=1\n",
    "            return cards_dealt  \n",
    "        else:\n",
    "            print('Not enough cards to deal')\n",
    "\n",
    "            #While researching online I found what may be a better way to deal and just wanted to practice coding it. Main thing I noticed is it reduces risk of infinite while loop by simply looping over the range of the input. \n",
    "    def alternet_deal(self, number_of_cards):\n",
    "        cards_dealt = []\n",
    "        for i in range(number_of_cards):\n",
    "            if (len(self.cards) > 0):\n",
    "                card = self.cards.pop()\n",
    "                cards_dealt.append(card)\n",
    "        return cards_dealt\n",
    "\n",
    "class Hand:\n",
    "    def __init__(self, dealer=False):\n",
    "        self.cards = []\n",
    "        self.value = 0\n",
    "        self.dealer = 0 \n",
    "    def add_card(self, card_list):\n",
    "        self.cards.extend(card_list)\n",
    "    def hand_value(self):\n",
    "        self.value = 0\n",
    "        ace = False\n",
    "        for card in self.cards:\n",
    "            card_value = int(card.type['type'])\n",
    "            self.value += card_value\n",
    "            if card.type['type'] == 'Ace':\n",
    "                ace = True\n",
    "        if ace and self.value > 21:\n",
    "            self.value -= 10\n",
    "    def get_total(self):\n",
    "        self.hand_value()\n",
    "        return self.value\n",
    "    \n",
    "    def blackjack(self):\n",
    "        return self.get_total() == 21\n",
    "    \n",
    "    def display(self):\n",
    "        print()\n",
    "\n",
    "\n",
    "\n",
    "deck1 = Deck()\n",
    "deck1.shuffle()\n",
    "yourhand = Hand()\n",
    "yourhand.add_card(deck1.deal_card(2))\n",
    "print(yourhand.cards[0], yourhand.cards[1])"
   ]
  },
  {
   "cell_type": "code",
   "execution_count": 851,
   "metadata": {},
   "outputs": [
    {
     "name": "stdout",
     "output_type": "stream",
     "text": [
      "Ace of hearts\n"
     ]
    }
   ],
   "source": [
    "card1 = Card(\"hearts\", {'type': 'Ace', 'value': 11})\n",
    "print(card1)"
   ]
  },
  {
   "cell_type": "code",
   "execution_count": 780,
   "metadata": {},
   "outputs": [
    {
     "name": "stdout",
     "output_type": "stream",
     "text": [
      "[['Diamonds', {'type': '3', 'value': 3}], ['Spades', {'type': 'Jack', 'value': 10}], ['Hearts', {'type': '7', 'value': 7}], ['Spades', {'type': '5', 'value': 5}], ['Spades', {'type': '10', 'value': 10}], ['Spades', {'type': '3', 'value': 3}], ['Diamonds', {'type': '10', 'value': 10}], ['Hearts', {'type': 'King', 'value': 10}], ['Diamonds', {'type': 'King', 'value': 10}], ['Diamonds', {'type': 'Queen', 'value': 10}], ['Clubs', {'type': '5', 'value': 5}], ['Clubs', {'type': 'Jack', 'value': 10}], ['Clubs', {'type': 'Ace', 'value': 11}], ['Diamonds', {'type': '6', 'value': 6}], ['Hearts', {'type': '5', 'value': 5}], ['Diamonds', {'type': 'Jack', 'value': 10}], ['Clubs', {'type': '4', 'value': 4}], ['Diamonds', {'type': '2', 'value': 2}], ['Hearts', {'type': 'Jack', 'value': 10}], ['Spades', {'type': 'Ace', 'value': 11}], ['Hearts', {'type': 'Queen', 'value': 10}], ['Clubs', {'type': '10', 'value': 10}], ['Clubs', {'type': 'Queen', 'value': 10}], ['Hearts', {'type': '2', 'value': 2}], ['Hearts', {'type': '6', 'value': 6}], ['Hearts', {'type': '9', 'value': 9}], ['Spades', {'type': '4', 'value': 4}], ['Spades', {'type': '9', 'value': 9}], ['Spades', {'type': 'Queen', 'value': 10}], ['Clubs', {'type': '3', 'value': 3}], ['Hearts', {'type': '3', 'value': 3}], ['Clubs', {'type': '2', 'value': 2}], ['Hearts', {'type': '10', 'value': 10}], ['Spades', {'type': '6', 'value': 6}], ['Hearts', {'type': 'Ace', 'value': 11}], ['Spades', {'type': 'King', 'value': 10}], ['Clubs', {'type': '8', 'value': 8}], ['Diamonds', {'type': '9', 'value': 9}], ['Clubs', {'type': '9', 'value': 9}], ['Spades', {'type': '2', 'value': 2}], ['Hearts', {'type': '4', 'value': 4}], ['Diamonds', {'type': 'Ace', 'value': 11}], ['Diamonds', {'type': '4', 'value': 4}], ['Clubs', {'type': 'King', 'value': 10}], ['Clubs', {'type': '6', 'value': 6}], ['Diamonds', {'type': '8', 'value': 8}], ['Clubs', {'type': '7', 'value': 7}], ['Spades', {'type': '8', 'value': 8}], ['Diamonds', {'type': '7', 'value': 7}], ['Spades', {'type': '7', 'value': 7}], ['Diamonds', {'type': '5', 'value': 5}], ['Hearts', {'type': '8', 'value': 8}]]\n",
      "[['Spades', {'type': 'Ace', 'value': 11}], ['Spades', {'type': '2', 'value': 2}], ['Spades', {'type': '3', 'value': 3}], ['Spades', {'type': '4', 'value': 4}], ['Spades', {'type': '5', 'value': 5}], ['Spades', {'type': '6', 'value': 6}], ['Spades', {'type': '7', 'value': 7}], ['Spades', {'type': '8', 'value': 8}], ['Spades', {'type': '9', 'value': 9}], ['Spades', {'type': '10', 'value': 10}], ['Spades', {'type': 'Jack', 'value': 10}], ['Spades', {'type': 'Queen', 'value': 10}], ['Spades', {'type': 'King', 'value': 10}], ['Clubs', {'type': 'Ace', 'value': 11}], ['Clubs', {'type': '2', 'value': 2}], ['Clubs', {'type': '3', 'value': 3}], ['Clubs', {'type': '4', 'value': 4}], ['Clubs', {'type': '5', 'value': 5}], ['Clubs', {'type': '6', 'value': 6}], ['Clubs', {'type': '7', 'value': 7}], ['Clubs', {'type': '8', 'value': 8}], ['Clubs', {'type': '9', 'value': 9}], ['Clubs', {'type': '10', 'value': 10}], ['Clubs', {'type': 'Jack', 'value': 10}], ['Clubs', {'type': 'Queen', 'value': 10}], ['Clubs', {'type': 'King', 'value': 10}], ['Hearts', {'type': 'Ace', 'value': 11}], ['Hearts', {'type': '2', 'value': 2}], ['Hearts', {'type': '3', 'value': 3}], ['Hearts', {'type': '4', 'value': 4}], ['Hearts', {'type': '5', 'value': 5}], ['Hearts', {'type': '6', 'value': 6}], ['Hearts', {'type': '7', 'value': 7}], ['Hearts', {'type': '8', 'value': 8}], ['Hearts', {'type': '9', 'value': 9}], ['Hearts', {'type': '10', 'value': 10}], ['Hearts', {'type': 'Jack', 'value': 10}], ['Hearts', {'type': 'Queen', 'value': 10}], ['Hearts', {'type': 'King', 'value': 10}], ['Diamonds', {'type': 'Ace', 'value': 11}], ['Diamonds', {'type': '2', 'value': 2}], ['Diamonds', {'type': '3', 'value': 3}], ['Diamonds', {'type': '4', 'value': 4}], ['Diamonds', {'type': '5', 'value': 5}], ['Diamonds', {'type': '6', 'value': 6}], ['Diamonds', {'type': '7', 'value': 7}], ['Diamonds', {'type': '8', 'value': 8}], ['Diamonds', {'type': '9', 'value': 9}], ['Diamonds', {'type': '10', 'value': 10}], ['Diamonds', {'type': 'Jack', 'value': 10}], ['Diamonds', {'type': 'Queen', 'value': 10}], ['Diamonds', {'type': 'King', 'value': 10}]]\n",
      "[['Hearts', {'type': '5', 'value': 5}], ['Clubs', {'type': '3', 'value': 3}], ['Clubs', {'type': '4', 'value': 4}], ['Clubs', {'type': '2', 'value': 2}], ['Clubs', {'type': 'King', 'value': 10}], ['Spades', {'type': '2', 'value': 2}], ['Spades', {'type': '7', 'value': 7}], ['Clubs', {'type': '7', 'value': 7}], ['Diamonds', {'type': '8', 'value': 8}], ['Hearts', {'type': '2', 'value': 2}], ['Hearts', {'type': '9', 'value': 9}], ['Diamonds', {'type': 'Jack', 'value': 10}], ['Diamonds', {'type': '5', 'value': 5}], ['Spades', {'type': '3', 'value': 3}], ['Clubs', {'type': '9', 'value': 9}], ['Clubs', {'type': 'Queen', 'value': 10}], ['Hearts', {'type': '4', 'value': 4}], ['Spades', {'type': '8', 'value': 8}], ['Diamonds', {'type': '9', 'value': 9}], ['Spades', {'type': '5', 'value': 5}], ['Diamonds', {'type': '10', 'value': 10}], ['Diamonds', {'type': '4', 'value': 4}], ['Diamonds', {'type': 'King', 'value': 10}], ['Diamonds', {'type': 'Queen', 'value': 10}], ['Diamonds', {'type': '7', 'value': 7}], ['Spades', {'type': 'Queen', 'value': 10}], ['Diamonds', {'type': '6', 'value': 6}], ['Hearts', {'type': 'Ace', 'value': 11}], ['Clubs', {'type': '10', 'value': 10}], ['Clubs', {'type': 'Ace', 'value': 11}], ['Hearts', {'type': '10', 'value': 10}], ['Hearts', {'type': '7', 'value': 7}], ['Hearts', {'type': '6', 'value': 6}], ['Spades', {'type': 'Ace', 'value': 11}], ['Hearts', {'type': '8', 'value': 8}], ['Clubs', {'type': '5', 'value': 5}], ['Hearts', {'type': 'Jack', 'value': 10}], ['Spades', {'type': '4', 'value': 4}], ['Clubs', {'type': '6', 'value': 6}], ['Spades', {'type': 'Jack', 'value': 10}], ['Spades', {'type': '10', 'value': 10}], ['Spades', {'type': '9', 'value': 9}], ['Spades', {'type': 'King', 'value': 10}], ['Hearts', {'type': 'Queen', 'value': 10}], ['Hearts', {'type': 'King', 'value': 10}], ['Clubs', {'type': 'Jack', 'value': 10}], ['Hearts', {'type': '3', 'value': 3}], ['Clubs', {'type': '8', 'value': 8}], ['Diamonds', {'type': '3', 'value': 3}], ['Diamonds', {'type': 'Ace', 'value': 11}], ['Spades', {'type': '6', 'value': 6}], ['Diamonds', {'type': '2', 'value': 2}]]\n"
     ]
    }
   ],
   "source": [
    "return f\"{self.card_type['type']} of {self.suit}\"\n",
    "#Instances are basically inside objects. Each instance saves its variables to the object.\n",
    "deck1 = Deck()\n",
    "deck2 = Deck()\n",
    "deck1.shuffle()\n",
    "print(deck1.cards)\n",
    "print(deck2.cards)\n",
    "deck2.shuffle()\n",
    "print(deck2.cards)\n",
    "\n"
   ]
  },
  {
   "cell_type": "code",
   "execution_count": 726,
   "metadata": {},
   "outputs": [
    {
     "name": "stdout",
     "output_type": "stream",
     "text": [
      "{'type': '4', 'value': 4} {'type': '4', 'value': 4} \n"
     ]
    }
   ],
   "source": [
    "print(f\"{card[1]['type']} of {card[0]},  {card[1]['value']} Points \")\n"
   ]
  },
  {
   "cell_type": "code",
   "execution_count": null,
   "metadata": {},
   "outputs": [],
   "source": []
  }
 ],
 "metadata": {
  "kernelspec": {
   "display_name": "Python 3",
   "language": "python",
   "name": "python3"
  },
  "language_info": {
   "codemirror_mode": {
    "name": "ipython",
    "version": 3
   },
   "file_extension": ".py",
   "mimetype": "text/x-python",
   "name": "python",
   "nbconvert_exporter": "python",
   "pygments_lexer": "ipython3",
   "version": "3.12.2"
  }
 },
 "nbformat": 4,
 "nbformat_minor": 2
}
